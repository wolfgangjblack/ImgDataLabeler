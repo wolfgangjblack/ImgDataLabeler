{
 "cells": [
  {
   "cell_type": "code",
   "execution_count": 1,
   "metadata": {},
   "outputs": [],
   "source": [
    "import psycopg2, os, subprocess\n",
    "import pandas as pd"
   ]
  },
  {
   "cell_type": "markdown",
   "metadata": {},
   "source": [
    "## Notebook Purpose\n",
    "<b> This is notebook number 1 </b>\n",
    "\n",
    "This notebook looks into the postgres tables public.Image, public.Tags, and a few others to gather training data for all models in the mixture including the NLP transformers, the ViT transformers, and the traditional CV models\n",
    "\n",
    "### Notebook Order\n",
    "1. getData\n",
    "2. downloadData\n",
    "3. trainResNetModel | trainPromptTransformerClassifier | trainViTClassifier\n",
    "4. localMixtureEval"
   ]
  },
  {
   "cell_type": "code",
   "execution_count": 2,
   "metadata": {},
   "outputs": [],
   "source": [
    "# Path to the shell script\n",
    "script_path = './creds/load_env.sh'\n",
    "\n",
    "# Run the script and capture the output\n",
    "proc = subprocess.Popen(['/bin/bash', script_path], stdout=subprocess.PIPE, stderr=subprocess.PIPE)\n",
    "stdout, stderr = proc.communicate()\n",
    "\n",
    "if proc.returncode != 0:\n",
    "    print(f\"Error sourcing .zshrc: {stderr.decode('utf-8')}\")\n",
    "else:\n",
    "    # Parse the output and set the environment variables\n",
    "    for line in stdout.decode('utf-8').splitlines():\n",
    "        key, _, value = line.partition(\"=\")\n",
    "        # Remove the surrounding quotes from the value\n",
    "        if value.startswith('\"') and value.endswith('\"'):\n",
    "            value = value[1:-1]\n",
    "        os.environ[key] = value\n",
    "\n",
    "# Verify the environment variable is loaded\n",
    "URL = os.getenv('REMOTE_POSTGRES_URL')  # Replace 'MY_VARIABLE' with your variable name to check\n",
    "\n",
    "# print(URL)"
   ]
  },
  {
   "cell_type": "code",
   "execution_count": 3,
   "metadata": {},
   "outputs": [],
   "source": [
    "conn = psycopg2.connect(URL)\n",
    "cur = conn.cursor()"
   ]
  },
  {
   "cell_type": "code",
   "execution_count": 6,
   "metadata": {},
   "outputs": [],
   "source": [
    "##tags we want\n",
    "styles = [\"anime\", \"photorealistic\", \"cartoon\", \"modern art\", \"realistic\"]\n",
    "subjects = [\"man\", \"woman\", \"animal\", \"child\"]\n",
    "\n",
    "queries = []\n",
    "for style in styles:\n",
    "    for subject in subjects:\n",
    "        if subject == 'child':\n",
    "            where_clause = f\"i.meta->>'prompt' LIKE '%{subject}%' AND it.tags LIKE '%{style}%'\"\n",
    "        else:\n",
    "            where_clause = f\"it.tags LIKE '%{style}%' AND it.tags LIKE '%{subject}%'\"\n",
    "\n",
    "        sql_query = f\"\"\"\n",
    "        WITH ImageTags AS (\n",
    "          SELECT\n",
    "            toi.\"imageId\",\n",
    "            string_agg(t.name, ', ') AS tags\n",
    "          FROM \"TagsOnImage\" toi\n",
    "          JOIN \"Tag\" t ON t.id = toi.\"tagId\"\n",
    "          WHERE NOT toi.disabled\n",
    "            AND toi.source != 'Rekognition'\n",
    "          GROUP BY toi.\"imageId\"\n",
    "        )\n",
    "\n",
    "        -- Subquery for PG\n",
    "        (SELECT\n",
    "          CONCAT('https://image.civitai.com/xG1nkqKTMzGDvpLrqFT7WA/', i.url, '/width=450/', i.id, '.jpg') AS download_url,\n",
    "          i.\"url\",\n",
    "          i.\"id\",\n",
    "          'PG' AS original_level,\n",
    "          it.tags,\n",
    "          i.meta->>'prompt' AS prompt,\n",
    "          '{style}' AS style,\n",
    "          '{subject}' AS subject\n",
    "        FROM \"Image\" i\n",
    "        JOIN ImageTags it ON i.\"id\" = it.\"imageId\"\n",
    "        WHERE i.\"nsfwLevel\" = 1\n",
    "          AND i.meta->>'prompt' IS NOT NULL\n",
    "          AND {where_clause}\n",
    "        LIMIT 1000)\n",
    "\n",
    "        UNION ALL\n",
    "\n",
    "        -- Subquery for PG13\n",
    "        (SELECT\n",
    "          CONCAT('https://image.civitai.com/xG1nkqKTMzGDvpLrqFT7WA/', i.url, '/width=450/', i.id, '.jpg') AS download_url,\n",
    "          i.\"url\",\n",
    "          i.\"id\",\n",
    "          'PG13' AS original_level,\n",
    "          it.tags,\n",
    "          i.meta->>'prompt' AS prompt,\n",
    "          '{style}' AS style,\n",
    "          '{subject}' AS subject\n",
    "        FROM \"Image\" i\n",
    "        JOIN ImageTags it ON i.\"id\" = it.\"imageId\"\n",
    "        WHERE i.\"nsfwLevel\" = 2\n",
    "          AND i.meta->>'prompt' IS NOT NULL\n",
    "          AND {where_clause}\n",
    "        LIMIT 1000)\n",
    "\n",
    "        UNION ALL\n",
    "\n",
    "        -- Subquery for R\n",
    "        (SELECT\n",
    "          CONCAT('https://image.civitai.com/xG1nkqKTMzGDvpLrqFT7WA/', i.url, '/width=450/', i.id, '.jpg') AS download_url,\n",
    "          i.\"url\",\n",
    "          i.\"id\",\n",
    "          'R' AS original_level,\n",
    "          it.tags,\n",
    "          i.meta->>'prompt' AS prompt,\n",
    "          '{style}' AS style,\n",
    "          '{subject}' AS subject\n",
    "        FROM \"Image\" i\n",
    "        JOIN ImageTags it ON i.\"id\" = it.\"imageId\"\n",
    "        WHERE i.\"nsfwLevel\" = 4\n",
    "          AND i.meta->>'prompt' IS NOT NULL\n",
    "          AND {where_clause}\n",
    "        LIMIT 1000)\n",
    "\n",
    "        UNION ALL\n",
    "\n",
    "        -- Subquery for X\n",
    "        (SELECT\n",
    "          CONCAT('https://image.civitai.com/xG1nkqKTMzGDvpLrqFT7WA/', i.url, '/width=450/', i.id, '.jpg') AS download_url,\n",
    "          i.\"url\",\n",
    "          i.\"id\",\n",
    "          'X' AS original_level,\n",
    "          it.tags,\n",
    "          i.meta->>'prompt' AS prompt,\n",
    "          '{style}' AS style,\n",
    "          '{subject}' AS subject\n",
    "        FROM \"Image\" i\n",
    "        JOIN ImageTags it ON i.\"id\" = it.\"imageId\"\n",
    "        WHERE i.\"nsfwLevel\" = 8\n",
    "          AND i.meta->>'prompt' IS NOT NULL\n",
    "          AND {where_clause}\n",
    "        LIMIT 1000)\n",
    "\n",
    "        UNION ALL\n",
    "\n",
    "        -- Subquery for XXX\n",
    "        (SELECT\n",
    "          CONCAT('https://image.civitai.com/xG1nkqKTMzGDvpLrqFT7WA/', i.url, '/width=450/', i.id, '.jpg') AS download_url,\n",
    "          i.\"url\",\n",
    "          i.\"id\",\n",
    "          'XXX' AS original_level,\n",
    "          it.tags,\n",
    "          i.meta->>'prompt' AS prompt,\n",
    "          '{style}' AS style,\n",
    "          '{subject}' AS subject\n",
    "        FROM \"Image\" i\n",
    "        JOIN ImageTags it ON i.\"id\" = it.\"imageId\"\n",
    "        WHERE i.\"nsfwLevel\" = 16\n",
    "          AND i.meta->>'prompt' IS NOT NULL\n",
    "          AND {where_clause}\n",
    "        LIMIT 1000);\n",
    "        \"\"\"\n",
    "        queries.append(sql_query)\n"
   ]
  },
  {
   "cell_type": "code",
   "execution_count": 7,
   "metadata": {},
   "outputs": [
    {
     "name": "stdout",
     "output_type": "stream",
     "text": [
      "working on query # 0 out of 20\n"
     ]
    },
    {
     "name": "stderr",
     "output_type": "stream",
     "text": [
      "/var/folders/lj/vxfv4wp1351_qdc939xvvn0m0000gn/T/ipykernel_16481/3670042979.py:5: UserWarning: pandas only supports SQLAlchemy connectable (engine/connection) or database string URI or sqlite3 DBAPI2 connection. Other DBAPI2 objects are not tested. Please consider using SQLAlchemy.\n",
      "  result = pd.read_sql_query(query, conn)\n"
     ]
    },
    {
     "name": "stdout",
     "output_type": "stream",
     "text": [
      "working on query # 1 out of 20\n",
      "working on query # 2 out of 20\n",
      "working on query # 3 out of 20\n"
     ]
    }
   ],
   "source": [
    "# Execute each query and store results in a list\n",
    "results = []\n",
    "for index, query in enumerate(queries):\n",
    "    print(f\"working on query # {index} out of {len(queries)}\")\n",
    "    result = pd.read_sql_query(query, conn)\n",
    "    results.append(result)\n",
    "\n",
    "# Combine all results into a single DataFrame\n",
    "image_prompt_tag_data = pd.concat(results, ignore_index=True)"
   ]
  },
  {
   "cell_type": "markdown",
   "metadata": {},
   "source": [
    "### Notes about queries\n",
    "\n",
    "- Use below with original or updated_query -> the query we have in here is advanced, so we don't use this code\n",
    "# image_with_ids = pd.read_sql_query(sql_query, conn)"
   ]
  },
  {
   "cell_type": "code",
   "execution_count": null,
   "metadata": {},
   "outputs": [
    {
     "data": {
      "text/html": [
       "<div>\n",
       "<style scoped>\n",
       "    .dataframe tbody tr th:only-of-type {\n",
       "        vertical-align: middle;\n",
       "    }\n",
       "\n",
       "    .dataframe tbody tr th {\n",
       "        vertical-align: top;\n",
       "    }\n",
       "\n",
       "    .dataframe thead th {\n",
       "        text-align: right;\n",
       "    }\n",
       "</style>\n",
       "<table border=\"1\" class=\"dataframe\">\n",
       "  <thead>\n",
       "    <tr style=\"text-align: right;\">\n",
       "      <th></th>\n",
       "      <th>download_url</th>\n",
       "      <th>url</th>\n",
       "      <th>id</th>\n",
       "      <th>label</th>\n",
       "      <th>tags</th>\n",
       "      <th>prompt</th>\n",
       "    </tr>\n",
       "  </thead>\n",
       "  <tbody>\n",
       "    <tr>\n",
       "      <th>0</th>\n",
       "      <td>https://image.civitai.com/xG1nkqKTMzGDvpLrqFT7...</td>\n",
       "      <td>a36fbc42-8cfa-47bb-95f8-91df2aa11ab8</td>\n",
       "      <td>1186294</td>\n",
       "      <td>PG</td>\n",
       "      <td>anime, woman, blonde hair, blue eyes, chair, c...</td>\n",
       "      <td>&lt;lora:minigirls-000002:1&gt;, 1girl, tiny, minigi...</td>\n",
       "    </tr>\n",
       "    <tr>\n",
       "      <th>1</th>\n",
       "      <td>https://image.civitai.com/xG1nkqKTMzGDvpLrqFT7...</td>\n",
       "      <td>b86782d4-adc2-49d4-3c85-11349297d900</td>\n",
       "      <td>129043</td>\n",
       "      <td>PG</td>\n",
       "      <td>woman, general purpose, digital art, digital i...</td>\n",
       "      <td>A happy little boy playing with toys in a park...</td>\n",
       "    </tr>\n",
       "    <tr>\n",
       "      <th>2</th>\n",
       "      <td>https://image.civitai.com/xG1nkqKTMzGDvpLrqFT7...</td>\n",
       "      <td>defc97ed-e845-4a76-ec9b-9ce277eb2600</td>\n",
       "      <td>517280</td>\n",
       "      <td>PG</td>\n",
       "      <td>man, woman, anime coloring, bangs, black-frame...</td>\n",
       "      <td>&lt;conanAndhaibara&gt;, 1girl, 1boy, brown hair, gl...</td>\n",
       "    </tr>\n",
       "    <tr>\n",
       "      <th>3</th>\n",
       "      <td>https://image.civitai.com/xG1nkqKTMzGDvpLrqFT7...</td>\n",
       "      <td>2b8347cb-ab5a-4569-a1eb-ab9932c657a0</td>\n",
       "      <td>13552448</td>\n",
       "      <td>PG</td>\n",
       "      <td>woman, solo, black hair, bandana, black eyes, ...</td>\n",
       "      <td>source_anime, score_9, score_8_up, score_7_up,...</td>\n",
       "    </tr>\n",
       "    <tr>\n",
       "      <th>4</th>\n",
       "      <td>https://image.civitai.com/xG1nkqKTMzGDvpLrqFT7...</td>\n",
       "      <td>ec396562-e65b-460c-357f-3cbac36beb00</td>\n",
       "      <td>129048</td>\n",
       "      <td>PG</td>\n",
       "      <td>general purpose, digital art, digital illustra...</td>\n",
       "      <td>A happy little boy playing with toys in class ...</td>\n",
       "    </tr>\n",
       "  </tbody>\n",
       "</table>\n",
       "</div>"
      ],
      "text/plain": [
       "                                        download_url  \\\n",
       "0  https://image.civitai.com/xG1nkqKTMzGDvpLrqFT7...   \n",
       "1  https://image.civitai.com/xG1nkqKTMzGDvpLrqFT7...   \n",
       "2  https://image.civitai.com/xG1nkqKTMzGDvpLrqFT7...   \n",
       "3  https://image.civitai.com/xG1nkqKTMzGDvpLrqFT7...   \n",
       "4  https://image.civitai.com/xG1nkqKTMzGDvpLrqFT7...   \n",
       "\n",
       "                                    url        id label  \\\n",
       "0  a36fbc42-8cfa-47bb-95f8-91df2aa11ab8   1186294    PG   \n",
       "1  b86782d4-adc2-49d4-3c85-11349297d900    129043    PG   \n",
       "2  defc97ed-e845-4a76-ec9b-9ce277eb2600    517280    PG   \n",
       "3  2b8347cb-ab5a-4569-a1eb-ab9932c657a0  13552448    PG   \n",
       "4  ec396562-e65b-460c-357f-3cbac36beb00    129048    PG   \n",
       "\n",
       "                                                tags  \\\n",
       "0  anime, woman, blonde hair, blue eyes, chair, c...   \n",
       "1  woman, general purpose, digital art, digital i...   \n",
       "2  man, woman, anime coloring, bangs, black-frame...   \n",
       "3  woman, solo, black hair, bandana, black eyes, ...   \n",
       "4  general purpose, digital art, digital illustra...   \n",
       "\n",
       "                                              prompt  \n",
       "0  <lora:minigirls-000002:1>, 1girl, tiny, minigi...  \n",
       "1  A happy little boy playing with toys in a park...  \n",
       "2  <conanAndhaibara>, 1girl, 1boy, brown hair, gl...  \n",
       "3  source_anime, score_9, score_8_up, score_7_up,...  \n",
       "4  A happy little boy playing with toys in class ...  "
      ]
     },
     "execution_count": 30,
     "metadata": {},
     "output_type": "execute_result"
    }
   ],
   "source": [
    "image_prompt_tag_data.head()"
   ]
  },
  {
   "cell_type": "code",
   "execution_count": null,
   "metadata": {},
   "outputs": [
    {
     "data": {
      "text/plain": [
       "label\n",
       "PG      18\n",
       "PG13     1\n",
       "R        1\n",
       "Name: id, dtype: int64"
      ]
     },
     "execution_count": 31,
     "metadata": {},
     "output_type": "execute_result"
    }
   ],
   "source": [
    "image_prompt_tag_data.groupby('label')['id'].count()"
   ]
  },
  {
   "cell_type": "code",
   "execution_count": null,
   "metadata": {},
   "outputs": [],
   "source": [
    "image_prompt_tag_data.to_csv('multiquery_image_prompt_tag_data.csv', index=False)"
   ]
  },
  {
   "cell_type": "code",
   "execution_count": null,
   "metadata": {},
   "outputs": [],
   "source": []
  }
 ],
 "metadata": {
  "kernelspec": {
   "display_name": ".venv",
   "language": "python",
   "name": "python3"
  },
  "language_info": {
   "codemirror_mode": {
    "name": "ipython",
    "version": 3
   },
   "file_extension": ".py",
   "mimetype": "text/x-python",
   "name": "python",
   "nbconvert_exporter": "python",
   "pygments_lexer": "ipython3",
   "version": "3.12.3"
  }
 },
 "nbformat": 4,
 "nbformat_minor": 2
}
