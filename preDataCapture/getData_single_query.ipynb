{
 "cells": [
  {
   "cell_type": "code",
   "execution_count": 1,
   "metadata": {},
   "outputs": [],
   "source": [
    "import psycopg2, os, subprocess\n",
    "import pandas as pd"
   ]
  },
  {
   "cell_type": "markdown",
   "metadata": {},
   "source": [
    "## Notebook Purpose\n",
    "<b> This is notebook number 1 </b>\n",
    "\n",
    "This notebook looks into the postgres tables public.Image, public.Tags, and a few others to gather training data for all models in the mixture including the NLP transformers, the ViT transformers, and the traditional CV models\n",
    "\n",
    "### Notebook Order\n",
    "1. getData\n",
    "2. downloadData\n",
    "3. trainResNetModel | trainPromptTransformerClassifier | trainViTClassifier\n",
    "4. localMixtureEval"
   ]
  },
  {
   "cell_type": "code",
   "execution_count": 2,
   "metadata": {},
   "outputs": [],
   "source": [
    "# Path to the shell script\n",
    "script_path = './load_env.sh'\n",
    "\n",
    "# Run the script and capture the output\n",
    "proc = subprocess.Popen(['/bin/bash', script_path], stdout=subprocess.PIPE, stderr=subprocess.PIPE)\n",
    "stdout, stderr = proc.communicate()\n",
    "\n",
    "if proc.returncode != 0:\n",
    "    print(f\"Error sourcing .zshrc: {stderr.decode('utf-8')}\")\n",
    "else:\n",
    "    # Parse the output and set the environment variables\n",
    "    for line in stdout.decode('utf-8').splitlines():\n",
    "        key, _, value = line.partition(\"=\")\n",
    "        # Remove the surrounding quotes from the value\n",
    "        if value.startswith('\"') and value.endswith('\"'):\n",
    "            value = value[1:-1]\n",
    "        os.environ[key] = value\n",
    "\n",
    "# Verify the environment variable is loaded\n",
    "URL = os.getenv('REMOTE_POSTGRES_URL')  # Replace 'MY_VARIABLE' with your variable name to check\n",
    "\n",
    "# print(URL)"
   ]
  },
  {
   "cell_type": "code",
   "execution_count": 3,
   "metadata": {},
   "outputs": [],
   "source": [
    "conn = psycopg2.connect(URL)\n",
    "cur = conn.cursor()"
   ]
  },
  {
   "cell_type": "code",
   "execution_count": 7,
   "metadata": {},
   "outputs": [],
   "source": [
    "##tags we want\n",
    "styles = [\"anime\", \"photorealistic\", \"cartoon\", \"modern art\", \"realistic\"]\n",
    "subjects = [\"man\", \"woman\", \"animal\", \"child\"]\n",
    "\n",
    "\n",
    "sql_query = \"\"\"\n",
    "WITH ImageTags AS (\n",
    "  SELECT\n",
    "    toi.\"imageId\",\n",
    "    string_agg(t.name, ', ') AS tags\n",
    "  FROM \"TagsOnImage\" toi\n",
    "  JOIN \"Tag\" t ON t.id = toi.\"tagId\"\n",
    "  WHERE NOT toi.disabled\n",
    "    AND toi.source != 'Rekognition'\n",
    "  GROUP BY toi.\"imageId\"\n",
    ")\n",
    "\n",
    "SELECT\n",
    "  CONCAT('https://image.civitai.com/xG1nkqKTMzGDvpLrqFT7WA/', i.url, '/width=450/', i.id, '.jpg') AS download_url,\n",
    "  i.\"url\",\n",
    "  i.\"id\",\n",
    "  CASE\n",
    "    WHEN i.\"nsfwLevel\" = 1 THEN 'PG'\n",
    "    WHEN i.\"nsfwLevel\" = 2 THEN 'PG13'\n",
    "    WHEN i.\"nsfwLevel\" = 4 THEN 'R'\n",
    "    WHEN i.\"nsfwLevel\" = 8 THEN 'X'\n",
    "    WHEN i.\"nsfwLevel\" = 16 THEN 'XXX'\n",
    "  END AS label,\n",
    "  it.tags,\n",
    "  i.meta->>'prompt' AS prompt\n",
    "FROM \"Image\" i\n",
    "JOIN ImageTags it ON i.\"id\" = it.\"imageId\"\n",
    "WHERE i.meta->>'prompt' IS NOT NULL\n",
    "  AND (\n",
    "\"\"\"\n",
    "\n",
    "for style in styles:\n",
    "    for subject in subjects:\n",
    "        if subject == 'child':\n",
    "            where_clause = f\"i.meta->>'prompt' LIKE '%{subject}%' AND it.tags LIKE '%{style}%'\"\n",
    "        else:\n",
    "            where_clause = f\"it.tags LIKE '%{style}%' AND it.tags LIKE '%{subject}%'\"\n",
    "        \n",
    "        sql_query += f\"({where_clause}) OR \"\n",
    "\n",
    "# Remove the last 'OR' and close the WHERE clause\n",
    "sql_query = sql_query[:-4] + \")\""
   ]
  },
  {
   "cell_type": "code",
   "execution_count": 8,
   "metadata": {},
   "outputs": [
    {
     "data": {
      "text/plain": [
       "'\\nWITH ImageTags AS (\\n  SELECT\\n    toi.\"imageId\",\\n    string_agg(t.name, \\', \\') AS tags\\n  FROM \"TagsOnImage\" toi\\n  JOIN \"Tag\" t ON t.id = toi.\"tagId\"\\n  WHERE NOT toi.disabled\\n    AND toi.source != \\'Rekognition\\'\\n  GROUP BY toi.\"imageId\"\\n)\\n\\nSELECT\\n  CONCAT(\\'https://image.civitai.com/xG1nkqKTMzGDvpLrqFT7WA/\\', i.url, \\'/width=450/\\', i.id, \\'.jpg\\') AS download_url,\\n  i.\"url\",\\n  i.\"id\",\\n  CASE\\n    WHEN i.\"nsfwLevel\" = 1 THEN \\'PG\\'\\n    WHEN i.\"nsfwLevel\" = 2 THEN \\'PG13\\'\\n    WHEN i.\"nsfwLevel\" = 4 THEN \\'R\\'\\n    WHEN i.\"nsfwLevel\" = 8 THEN \\'X\\'\\n    WHEN i.\"nsfwLevel\" = 16 THEN \\'XXX\\'\\n  END AS original_level,\\n  it.tags,\\n  i.meta->>\\'prompt\\' AS prompt\\nFROM \"Image\" i\\nJOIN ImageTags it ON i.\"id\" = it.\"imageId\"\\nWHERE i.meta->>\\'prompt\\' IS NOT NULL\\n  AND (\\n(it.tags LIKE \\'%anime%\\' AND it.tags LIKE \\'%man%\\') OR (it.tags LIKE \\'%anime%\\' AND it.tags LIKE \\'%woman%\\') OR (it.tags LIKE \\'%anime%\\' AND it.tags LIKE \\'%animal%\\') OR (i.meta->>\\'prompt\\' LIKE \\'%child%\\' AND it.tags LIKE \\'%anime%\\') OR (it.tags LIKE \\'%photorealistic%\\' AND it.tags LIKE \\'%man%\\') OR (it.tags LIKE \\'%photorealistic%\\' AND it.tags LIKE \\'%woman%\\') OR (it.tags LIKE \\'%photorealistic%\\' AND it.tags LIKE \\'%animal%\\') OR (i.meta->>\\'prompt\\' LIKE \\'%child%\\' AND it.tags LIKE \\'%photorealistic%\\') OR (it.tags LIKE \\'%cartoon%\\' AND it.tags LIKE \\'%man%\\') OR (it.tags LIKE \\'%cartoon%\\' AND it.tags LIKE \\'%woman%\\') OR (it.tags LIKE \\'%cartoon%\\' AND it.tags LIKE \\'%animal%\\') OR (i.meta->>\\'prompt\\' LIKE \\'%child%\\' AND it.tags LIKE \\'%cartoon%\\') OR (it.tags LIKE \\'%modern art%\\' AND it.tags LIKE \\'%man%\\') OR (it.tags LIKE \\'%modern art%\\' AND it.tags LIKE \\'%woman%\\') OR (it.tags LIKE \\'%modern art%\\' AND it.tags LIKE \\'%animal%\\') OR (i.meta->>\\'prompt\\' LIKE \\'%child%\\' AND it.tags LIKE \\'%modern art%\\') OR (it.tags LIKE \\'%realistic%\\' AND it.tags LIKE \\'%man%\\') OR (it.tags LIKE \\'%realistic%\\' AND it.tags LIKE \\'%woman%\\') OR (it.tags LIKE \\'%realistic%\\' AND it.tags LIKE \\'%animal%\\') OR (i.meta->>\\'prompt\\' LIKE \\'%child%\\' AND it.tags LIKE \\'%realistic%\\'))'"
      ]
     },
     "execution_count": 8,
     "metadata": {},
     "output_type": "execute_result"
    }
   ],
   "source": [
    "sql_query"
   ]
  },
  {
   "cell_type": "code",
   "execution_count": 9,
   "metadata": {},
   "outputs": [
    {
     "name": "stderr",
     "output_type": "stream",
     "text": [
      "/var/folders/lj/vxfv4wp1351_qdc939xvvn0m0000gn/T/ipykernel_14415/1144317798.py:2: UserWarning: pandas only supports SQLAlchemy connectable (engine/connection) or database string URI or sqlite3 DBAPI2 connection. Other DBAPI2 objects are not tested. Please consider using SQLAlchemy.\n",
      "  image_prompt_tag_data = pd.read_sql_query(sql_query, conn)\n"
     ]
    }
   ],
   "source": [
    "# Execute each query and store results in a list\n",
    "image_prompt_tag_data = pd.read_sql_query(sql_query, conn)\n"
   ]
  },
  {
   "cell_type": "markdown",
   "metadata": {},
   "source": [
    "### Notes about queries\n",
    "\n",
    "- Use below with original or updated_query -> the query we have in here is advanced, so we don't use this code <br>\n",
    "`image_with_ids = pd.read_sql_query(sql_query, conn)`"
   ]
  },
  {
   "cell_type": "code",
   "execution_count": 10,
   "metadata": {},
   "outputs": [
    {
     "data": {
      "text/html": [
       "<div>\n",
       "<style scoped>\n",
       "    .dataframe tbody tr th:only-of-type {\n",
       "        vertical-align: middle;\n",
       "    }\n",
       "\n",
       "    .dataframe tbody tr th {\n",
       "        vertical-align: top;\n",
       "    }\n",
       "\n",
       "    .dataframe thead th {\n",
       "        text-align: right;\n",
       "    }\n",
       "</style>\n",
       "<table border=\"1\" class=\"dataframe\">\n",
       "  <thead>\n",
       "    <tr style=\"text-align: right;\">\n",
       "      <th></th>\n",
       "      <th>download_url</th>\n",
       "      <th>url</th>\n",
       "      <th>id</th>\n",
       "      <th>original_level</th>\n",
       "      <th>tags</th>\n",
       "      <th>prompt</th>\n",
       "    </tr>\n",
       "  </thead>\n",
       "  <tbody>\n",
       "    <tr>\n",
       "      <th>0</th>\n",
       "      <td>https://image.civitai.com/xG1nkqKTMzGDvpLrqFT7...</td>\n",
       "      <td>3941c5f2-d694-44bf-a6e3-b2158f7fd038</td>\n",
       "      <td>7482165</td>\n",
       "      <td>XXX</td>\n",
       "      <td>woman, brown hair, chair, closed eyes, coverin...</td>\n",
       "      <td>iphone photograph of sleepy tired pale freckle...</td>\n",
       "    </tr>\n",
       "    <tr>\n",
       "      <th>1</th>\n",
       "      <td>https://image.civitai.com/xG1nkqKTMzGDvpLrqFT7...</td>\n",
       "      <td>15f5d724-8831-4b5f-8e07-491696366155</td>\n",
       "      <td>6429527</td>\n",
       "      <td>PG</td>\n",
       "      <td>woman, bow, bracelet, breasts, jewelry, long h...</td>\n",
       "      <td>1girl, solo, portrait, simple background, dark...</td>\n",
       "    </tr>\n",
       "    <tr>\n",
       "      <th>2</th>\n",
       "      <td>https://image.civitai.com/xG1nkqKTMzGDvpLrqFT7...</td>\n",
       "      <td>3d64c9d8-d812-4e93-97e1-4a318d01afa4</td>\n",
       "      <td>7483116</td>\n",
       "      <td>X</td>\n",
       "      <td>woman, breasts, brown eyes, brown hair, long h...</td>\n",
       "      <td>((nude, topless, nipples, white panties, white...</td>\n",
       "    </tr>\n",
       "    <tr>\n",
       "      <th>3</th>\n",
       "      <td>https://image.civitai.com/xG1nkqKTMzGDvpLrqFT7...</td>\n",
       "      <td>de196b97-127f-4616-8133-52bd3b8f8494</td>\n",
       "      <td>7481494</td>\n",
       "      <td>PG13</td>\n",
       "      <td>woman, black hair, cowboy shot, curly hair, fe...</td>\n",
       "      <td>(sfw:1.2) romanian 1girl, as a curious killer ...</td>\n",
       "    </tr>\n",
       "    <tr>\n",
       "      <th>4</th>\n",
       "      <td>https://image.civitai.com/xG1nkqKTMzGDvpLrqFT7...</td>\n",
       "      <td>7905bc95-2c3b-4c1e-8a3c-c0ab6295d2bf</td>\n",
       "      <td>6424802</td>\n",
       "      <td>R</td>\n",
       "      <td>partial nudity, black hair, bracelet, dark ski...</td>\n",
       "      <td>cover art by angus mckie, scifi, futuristic, h...</td>\n",
       "    </tr>\n",
       "  </tbody>\n",
       "</table>\n",
       "</div>"
      ],
      "text/plain": [
       "                                        download_url  \\\n",
       "0  https://image.civitai.com/xG1nkqKTMzGDvpLrqFT7...   \n",
       "1  https://image.civitai.com/xG1nkqKTMzGDvpLrqFT7...   \n",
       "2  https://image.civitai.com/xG1nkqKTMzGDvpLrqFT7...   \n",
       "3  https://image.civitai.com/xG1nkqKTMzGDvpLrqFT7...   \n",
       "4  https://image.civitai.com/xG1nkqKTMzGDvpLrqFT7...   \n",
       "\n",
       "                                    url       id original_level  \\\n",
       "0  3941c5f2-d694-44bf-a6e3-b2158f7fd038  7482165            XXX   \n",
       "1  15f5d724-8831-4b5f-8e07-491696366155  6429527             PG   \n",
       "2  3d64c9d8-d812-4e93-97e1-4a318d01afa4  7483116              X   \n",
       "3  de196b97-127f-4616-8133-52bd3b8f8494  7481494           PG13   \n",
       "4  7905bc95-2c3b-4c1e-8a3c-c0ab6295d2bf  6424802              R   \n",
       "\n",
       "                                                tags  \\\n",
       "0  woman, brown hair, chair, closed eyes, coverin...   \n",
       "1  woman, bow, bracelet, breasts, jewelry, long h...   \n",
       "2  woman, breasts, brown eyes, brown hair, long h...   \n",
       "3  woman, black hair, cowboy shot, curly hair, fe...   \n",
       "4  partial nudity, black hair, bracelet, dark ski...   \n",
       "\n",
       "                                              prompt  \n",
       "0  iphone photograph of sleepy tired pale freckle...  \n",
       "1  1girl, solo, portrait, simple background, dark...  \n",
       "2  ((nude, topless, nipples, white panties, white...  \n",
       "3  (sfw:1.2) romanian 1girl, as a curious killer ...  \n",
       "4  cover art by angus mckie, scifi, futuristic, h...  "
      ]
     },
     "execution_count": 10,
     "metadata": {},
     "output_type": "execute_result"
    }
   ],
   "source": [
    "image_prompt_tag_data.head()"
   ]
  },
  {
   "cell_type": "code",
   "execution_count": 12,
   "metadata": {},
   "outputs": [
    {
     "data": {
      "text/plain": [
       "original_level\n",
       "PG      500512\n",
       "PG13    152409\n",
       "R       253634\n",
       "X       339941\n",
       "XXX     209348\n",
       "Name: id, dtype: int64"
      ]
     },
     "execution_count": 12,
     "metadata": {},
     "output_type": "execute_result"
    }
   ],
   "source": [
    "image_prompt_tag_data.groupby('original_level')['id'].count()"
   ]
  },
  {
   "cell_type": "code",
   "execution_count": 13,
   "metadata": {},
   "outputs": [],
   "source": [
    "image_prompt_tag_data.to_csv('./data/image_prompt_tag_data.csv', index=False)"
   ]
  },
  {
   "cell_type": "code",
   "execution_count": null,
   "metadata": {},
   "outputs": [],
   "source": []
  }
 ],
 "metadata": {
  "kernelspec": {
   "display_name": ".venv",
   "language": "python",
   "name": "python3"
  },
  "language_info": {
   "codemirror_mode": {
    "name": "ipython",
    "version": 3
   },
   "file_extension": ".py",
   "mimetype": "text/x-python",
   "name": "python",
   "nbconvert_exporter": "python",
   "pygments_lexer": "ipython3",
   "version": "3.12.3"
  }
 },
 "nbformat": 4,
 "nbformat_minor": 2
}
